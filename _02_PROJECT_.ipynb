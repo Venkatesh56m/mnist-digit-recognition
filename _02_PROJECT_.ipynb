{
 "cells": [
  {
   "cell_type": "markdown",
   "id": "f0929086-01ec-4286-8c80-8ee7bf780759",
   "metadata": {},
   "source": [
    "📂 Dataset:\n",
    "MNIST Dataset – included directly in Keras or TensorFlow. No downloading needed.\n",
    "1. Import the Datase"
   ]
  },
  {
   "cell_type": "code",
   "execution_count": 2,
   "id": "5ffe42fe-6089-49d1-bf3e-26b3caa93d27",
   "metadata": {
    "execution": {
     "iopub.execute_input": "2025-04-08T05:00:35.421011Z",
     "iopub.status.busy": "2025-04-08T05:00:35.420001Z",
     "iopub.status.idle": "2025-04-08T05:00:35.424371Z",
     "shell.execute_reply": "2025-04-08T05:00:35.424371Z",
     "shell.execute_reply.started": "2025-04-08T05:00:35.421011Z"
    }
   },
   "outputs": [],
   "source": [
    "import tensorflow\n",
    "from tensorflow.keras.datasets import mnist"
   ]
  },
  {
   "cell_type": "markdown",
   "id": "1130bedb-4155-42ed-ba67-b71863564f3c",
   "metadata": {},
   "source": [
    "2. Preprocess the Data\n",
    "Normalize pixel values (0–255) to (0–1)\n",
    "\n",
    "Reshape if needed for CNN"
   ]
  },
  {
   "cell_type": "code",
   "execution_count": 5,
   "id": "867aa776-f71b-4604-86b4-cae516127132",
   "metadata": {
    "execution": {
     "iopub.execute_input": "2025-04-08T05:02:25.404663Z",
     "iopub.status.busy": "2025-04-08T05:02:25.404663Z",
     "iopub.status.idle": "2025-04-08T05:02:25.691495Z",
     "shell.execute_reply": "2025-04-08T05:02:25.691495Z",
     "shell.execute_reply.started": "2025-04-08T05:02:25.404663Z"
    }
   },
   "outputs": [],
   "source": [
    "(x_train,y_train),(x_test,y_test) = mnist.load_data()"
   ]
  },
  {
   "cell_type": "markdown",
   "id": "176a3f95-97fd-47d6-806d-d51faf3d828e",
   "metadata": {},
   "source": [
    "3. Build a Simple Neural Network"
   ]
  },
  {
   "cell_type": "code",
   "execution_count": 15,
   "id": "227fc864-519b-4b94-a64a-e82de21de162",
   "metadata": {
    "execution": {
     "iopub.execute_input": "2025-04-08T05:08:22.564814Z",
     "iopub.status.busy": "2025-04-08T05:08:22.563805Z",
     "iopub.status.idle": "2025-04-08T05:08:22.586566Z",
     "shell.execute_reply": "2025-04-08T05:08:22.586566Z",
     "shell.execute_reply.started": "2025-04-08T05:08:22.564814Z"
    }
   },
   "outputs": [],
   "source": [
    "from tensorflow.keras.models import Sequential\n",
    "from tensorflow.keras.layers import Dense, Flatten\n",
    "model = Sequential([Flatten(input_shape = (28,28)),\n",
    "                   Dense(128, activation='relu'), \n",
    "                   Dense(10,activation='softmax')\n",
    "                   ])"
   ]
  },
  {
   "cell_type": "markdown",
   "id": "26e4bf17-9a1c-4665-9dc6-a315b83ecf52",
   "metadata": {},
   "source": [
    "4. Compile the Model\n",
    "\n"
   ]
  },
  {
   "cell_type": "code",
   "execution_count": 23,
   "id": "ab408a31-4f09-4225-b253-4294f707de1d",
   "metadata": {
    "execution": {
     "iopub.execute_input": "2025-04-08T05:11:44.545791Z",
     "iopub.status.busy": "2025-04-08T05:11:44.545791Z",
     "iopub.status.idle": "2025-04-08T05:11:44.562472Z",
     "shell.execute_reply": "2025-04-08T05:11:44.562472Z",
     "shell.execute_reply.started": "2025-04-08T05:11:44.545791Z"
    }
   },
   "outputs": [],
   "source": [
    "model.compile(optimizer='adam',\n",
    "              loss='sparse_categorical_crossentropy',\n",
    "              metrics=['accuracy'])\n"
   ]
  },
  {
   "cell_type": "markdown",
   "id": "88a7b3d7-7fa9-455f-9d8d-3e49316986e0",
   "metadata": {},
   "source": [
    "5. Train the Model"
   ]
  },
  {
   "cell_type": "code",
   "execution_count": 25,
   "id": "b1252b77-0f30-4dcd-aea9-0bd8a1c9dec4",
   "metadata": {
    "execution": {
     "iopub.execute_input": "2025-04-08T05:11:47.624789Z",
     "iopub.status.busy": "2025-04-08T05:11:47.624789Z",
     "iopub.status.idle": "2025-04-08T05:12:04.115721Z",
     "shell.execute_reply": "2025-04-08T05:12:04.115215Z",
     "shell.execute_reply.started": "2025-04-08T05:11:47.624789Z"
    }
   },
   "outputs": [
    {
     "name": "stdout",
     "output_type": "stream",
     "text": [
      "Epoch 1/5\n",
      "\u001b[1m1875/1875\u001b[0m \u001b[32m━━━━━━━━━━━━━━━━━━━━\u001b[0m\u001b[37m\u001b[0m \u001b[1m4s\u001b[0m 2ms/step - accuracy: 0.8181 - loss: 6.9746\n",
      "Epoch 2/5\n",
      "\u001b[1m1875/1875\u001b[0m \u001b[32m━━━━━━━━━━━━━━━━━━━━\u001b[0m\u001b[37m\u001b[0m \u001b[1m3s\u001b[0m 2ms/step - accuracy: 0.9148 - loss: 0.3602\n",
      "Epoch 3/5\n",
      "\u001b[1m1875/1875\u001b[0m \u001b[32m━━━━━━━━━━━━━━━━━━━━\u001b[0m\u001b[37m\u001b[0m \u001b[1m3s\u001b[0m 2ms/step - accuracy: 0.9345 - loss: 0.2598\n",
      "Epoch 4/5\n",
      "\u001b[1m1875/1875\u001b[0m \u001b[32m━━━━━━━━━━━━━━━━━━━━\u001b[0m\u001b[37m\u001b[0m \u001b[1m3s\u001b[0m 2ms/step - accuracy: 0.9412 - loss: 0.2330\n",
      "Epoch 5/5\n",
      "\u001b[1m1875/1875\u001b[0m \u001b[32m━━━━━━━━━━━━━━━━━━━━\u001b[0m\u001b[37m\u001b[0m \u001b[1m3s\u001b[0m 2ms/step - accuracy: 0.9449 - loss: 0.2154\n"
     ]
    },
    {
     "data": {
      "text/plain": [
       "<keras.src.callbacks.history.History at 0x286c1c9d650>"
      ]
     },
     "execution_count": 25,
     "metadata": {},
     "output_type": "execute_result"
    }
   ],
   "source": [
    "model.fit(x_train,y_train,epochs=5)"
   ]
  },
  {
   "cell_type": "markdown",
   "id": "8474a55c-e503-4de4-b11a-3657486f49a0",
   "metadata": {},
   "source": [
    "6. Evaluate"
   ]
  },
  {
   "cell_type": "code",
   "execution_count": 29,
   "id": "73fb5d43-0539-4b4b-ace8-de0fba9a56eb",
   "metadata": {
    "execution": {
     "iopub.execute_input": "2025-04-08T05:13:42.427553Z",
     "iopub.status.busy": "2025-04-08T05:13:42.427553Z",
     "iopub.status.idle": "2025-04-08T05:13:43.002658Z",
     "shell.execute_reply": "2025-04-08T05:13:43.002658Z",
     "shell.execute_reply.started": "2025-04-08T05:13:42.427553Z"
    }
   },
   "outputs": [
    {
     "name": "stdout",
     "output_type": "stream",
     "text": [
      "\u001b[1m313/313\u001b[0m \u001b[32m━━━━━━━━━━━━━━━━━━━━\u001b[0m\u001b[37m\u001b[0m \u001b[1m0s\u001b[0m 1ms/step - accuracy: 0.9310 - loss: 0.2883\n",
      "Test accuracy: 0.941100001335144\n"
     ]
    }
   ],
   "source": [
    "test_loss, test_acc = model.evaluate(x_test,y_test)\n",
    "print(\"Test accuracy:\",test_acc)"
   ]
  },
  {
   "cell_type": "markdown",
   "id": "6921eb23-73e0-4b51-999f-b950a8de5de8",
   "metadata": {},
   "source": [
    "7. (Optional) Predict a Single Digit"
   ]
  },
  {
   "cell_type": "code",
   "execution_count": 34,
   "id": "76c0ec94-8dfe-4adc-9a08-d82733d32dba",
   "metadata": {
    "execution": {
     "iopub.execute_input": "2025-04-08T05:17:38.716719Z",
     "iopub.status.busy": "2025-04-08T05:17:38.716719Z",
     "iopub.status.idle": "2025-04-08T05:17:38.908977Z",
     "shell.execute_reply": "2025-04-08T05:17:38.908977Z",
     "shell.execute_reply.started": "2025-04-08T05:17:38.716719Z"
    }
   },
   "outputs": [
    {
     "data": {
      "image/png": "[encoded data removed]",
      "text/plain": [
       "<Figure size 640x480 with 1 Axes>"
      ]
     },
     "metadata": {},
     "output_type": "display_data"
    },
    {
     "name": "stdout",
     "output_type": "stream",
     "text": [
      "None\n",
      "\u001b[1m1/1\u001b[0m \u001b[32m━━━━━━━━━━━━━━━━━━━━\u001b[0m\u001b[37m\u001b[0m \u001b[1m0s\u001b[0m 61ms/step\n",
      "Predict:  7\n"
     ]
    }
   ],
   "source": [
    "import numpy as np \n",
    "import matplotlib.pyplot as plt \n",
    "plt.imshow(x_test[0],cmap='grey')\n",
    "print(plt.show()) \n",
    "prediction = model.predict(np.expand_dims(x_test[0],axis=0))\n",
    "print(\"Predict: \", np.argmax(prediction))\n"
   ]
  },
  {
   "cell_type": "code",
   "execution_count": null,
   "id": "a5622260-1a9f-4d9e-b9c6-3770aab4802f",
   "metadata": {},
   "outputs": [],
   "source": []
  }
 ],
 "metadata": {
  "firstTimeUsingHintbot": true,
  "kernelspec": {
   "display_name": "Python (DEEPLEARNING)",
   "language": "python",
   "name": "deeplearning"
  },
  "language_info": {
   "codemirror_mode": {
    "name": "ipython",
    "version": 3
   },
   "file_extension": ".py",
   "mimetype": "text/x-python",
   "name": "python",
   "nbconvert_exporter": "python",
   "pygments_lexer": "ipython3",
   "version": "3.11.9"
  }
 },
 "nbformat": 4,
 "nbformat_minor": 5
}
